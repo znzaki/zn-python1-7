{
 "cells": [
  {
   "cell_type": "markdown",
   "metadata": {
    "colab_type": "text",
    "id": "ikaA73c4MojB"
   },
   "source": [
    "![title](img/header.png)"
   ]
  },
  {
   "cell_type": "markdown",
   "metadata": {
    "colab_type": "text",
    "id": "yzlUQ4q1MojC"
   },
   "source": [
    "<h1>Sets pada Python</h1>"
   ]
  },
  {
   "cell_type": "markdown",
   "metadata": {
    "colab_type": "text",
    "id": "RKfBbQ1fMojD"
   },
   "source": [
    "<p><strong>Selamat Datang!</strong> Notebook ini akan mengajarkan Anda tentang sets pada bahasa pemrograman Python. Akhir dari notebook ini, Anda akan mengetahui dasar operasi set pada Python, termasuk apa itu set, cara mengoperasikannya, dan operasi logikanya</p> "
   ]
  },
  {
   "cell_type": "markdown",
   "metadata": {
    "colab_type": "text",
    "id": "hDKI8Bx_MojE"
   },
   "source": [
    "<h2>Daftar Isi</h2>\n",
    "<div class=\"alert alert-block alert-info\" style=\"margin-top: 20px\">\n",
    "    <ul>\n",
    "        <li>\n",
    "            <a href=\"#set\">Sets</a>\n",
    "            <ul>\n",
    "                <li><a href=\"content\">Set Content</a></li>\n",
    "                <li><a href=\"op\">Operasi Set</a></li>\n",
    "                <li><a href=\"logic\">Operasi Logic pada Set</a></li>\n",
    "            </ul>\n",
    "        </li>\n",
    "        <li>\n",
    "            <a href=\"#quiz\">Kuis tentang Sets</a>\n",
    "        </li>\n",
    "    </ul>\n",
    "    <p>\n",
    "        Prakiraan waktu yang dibutuhkan: <strong>20 min</strong>\n",
    "    </p>\n",
    "</div>\n",
    "\n",
    "<hr>"
   ]
  },
  {
   "cell_type": "markdown",
   "metadata": {
    "colab_type": "text",
    "id": "sC9rg1GbMojF"
   },
   "source": [
    "<h2 id=\"set\">Sets</h2>"
   ]
  },
  {
   "cell_type": "markdown",
   "metadata": {
    "colab_type": "text",
    "id": "Wypb7Z8JMojF"
   },
   "source": [
    "<h3 id=\"content\">Set Content</h3>"
   ]
  },
  {
   "cell_type": "markdown",
   "metadata": {
    "colab_type": "text",
    "id": "bLXrvWv0MojG"
   },
   "source": [
    "Sebuah set adalah sekumpulan objek unik pada Python. Anda dapat menunjukkan sebua set dengan kurung kurawal **{ }**. Python akan secara otomatis menghapus duplikasi elemen:"
   ]
  },
  {
   "cell_type": "code",
   "execution_count": 1,
   "metadata": {
    "colab": {},
    "colab_type": "code",
    "id": "eshBMtLNMojH"
   },
   "outputs": [
    {
     "data": {
      "text/plain": [
       "{'R&B', 'disco', 'hard rock', 'pop', 'rock', 'soul'}"
      ]
     },
     "execution_count": 1,
     "metadata": {},
     "output_type": "execute_result"
    }
   ],
   "source": [
    "# Buat sebuah set\n",
    "\n",
    "set1 = {\"pop\", \"rock\", \"soul\", \"hard rock\", \"rock\", \"R&B\", \"rock\", \"disco\"}\n",
    "set1"
   ]
  },
  {
   "cell_type": "markdown",
   "metadata": {
    "colab_type": "text",
    "id": "uxabVFenMojL"
   },
   "source": [
    "Proses pemetaan di ilustrasikan pada gambar dibawah:"
   ]
  },
  {
   "cell_type": "markdown",
   "metadata": {
    "colab_type": "text",
    "id": "J3K0JjyyMojM"
   },
   "source": [
    "<img src=\"https://s3-api.us-geo.objectstorage.softlayer.net/cf-courses-data/CognitiveClass/PY0101EN/Chapter%202/Images/SetsUnique.png\" width=\"1100\" />"
   ]
  },
  {
   "cell_type": "markdown",
   "metadata": {
    "colab_type": "text",
    "id": "4Rjqdvm9MojN"
   },
   "source": [
    "  Anda juga dapat membuat sebuah set sebagai list seperti berikut:"
   ]
  },
  {
   "cell_type": "code",
   "execution_count": 2,
   "metadata": {
    "colab": {},
    "colab_type": "code",
    "id": "BlVdBGMTMojN",
    "scrolled": true
   },
   "outputs": [
    {
     "data": {
      "text/plain": [
       "{65,\n",
       " '00:42:19',\n",
       " 'Michael Jackson',\n",
       " None,\n",
       " 10.0,\n",
       " 46.0,\n",
       " 'Pop, Rock, R&B',\n",
       " '30-Nov-82',\n",
       " 'Thriller',\n",
       " 1982}"
      ]
     },
     "execution_count": 2,
     "metadata": {},
     "output_type": "execute_result"
    }
   ],
   "source": [
    "# Konversi list menjadi set\n",
    "\n",
    "album_list = [ \"Michael Jackson\", \"Thriller\", 1982, \"00:42:19\", \\\n",
    "              \"Pop, Rock, R&B\", 46.0, 65, \"30-Nov-82\", None, 10.0]\n",
    "album_set = set(album_list)             \n",
    "album_set"
   ]
  },
  {
   "cell_type": "markdown",
   "metadata": {
    "colab_type": "text",
    "id": "IMVfEa2XMojQ"
   },
   "source": [
    "Sekarang, mari buat sebuah set dari genre:"
   ]
  },
  {
   "cell_type": "code",
   "execution_count": 3,
   "metadata": {
    "colab": {},
    "colab_type": "code",
    "id": "lTa1QJJtMojR"
   },
   "outputs": [
    {
     "data": {
      "text/plain": [
       "{'R&B',\n",
       " 'disco',\n",
       " 'folk rock',\n",
       " 'hard rock',\n",
       " 'pop',\n",
       " 'progressive rock',\n",
       " 'rock',\n",
       " 'soft rock',\n",
       " 'soul'}"
      ]
     },
     "execution_count": 3,
     "metadata": {},
     "output_type": "execute_result"
    }
   ],
   "source": [
    "# Konversi list menjadi set\n",
    "\n",
    "music_genres = set([\"pop\", \"pop\", \"rock\", \"folk rock\", \"hard rock\", \"soul\", \\\n",
    "                    \"progressive rock\", \"soft rock\", \"R&B\", \"disco\"])\n",
    "music_genres"
   ]
  },
  {
   "cell_type": "markdown",
   "metadata": {
    "colab_type": "text",
    "id": "EsQu3zgzMojU"
   },
   "source": [
    "<h3 id=\"op\">Operasi Set</h3> "
   ]
  },
  {
   "cell_type": "markdown",
   "metadata": {
    "colab_type": "text",
    "id": "0N0CfhrWMojV"
   },
   "source": [
    "Operasi pada set, karena dapat digunakan untuk mengubah set. Memperhatikan set **A**:\n"
   ]
  },
  {
   "cell_type": "code",
   "execution_count": 4,
   "metadata": {
    "colab": {
     "base_uri": "https://localhost:8080/",
     "height": 35
    },
    "colab_type": "code",
    "executionInfo": {
     "elapsed": 912,
     "status": "ok",
     "timestamp": 1561610650388,
     "user": {
      "displayName": "Golobok go",
      "photoUrl": "",
      "userId": "03877817960545856005"
     },
     "user_tz": -420
    },
    "id": "lE1580wtMojV",
    "outputId": "38455823-3069-47e2-c783-03b89767b960"
   },
   "outputs": [
    {
     "data": {
      "text/plain": [
       "{'AC/DC', 'Back in Black', 'Thriller'}"
      ]
     },
     "execution_count": 4,
     "metadata": {},
     "output_type": "execute_result"
    }
   ],
   "source": [
    "# Contoh set\n",
    "\n",
    "A = set([\"Thriller\", \"Back in Black\", \"AC/DC\"])\n",
    "A"
   ]
  },
  {
   "cell_type": "markdown",
   "metadata": {
    "colab_type": "text",
    "id": "GwTgi5usMojY"
   },
   "source": [
    "  Kita dapat menambahkan elemen kedalam set menggunakan <code>add()</code>:"
   ]
  },
  {
   "cell_type": "code",
   "execution_count": 5,
   "metadata": {
    "colab": {
     "base_uri": "https://localhost:8080/",
     "height": 35
    },
    "colab_type": "code",
    "executionInfo": {
     "elapsed": 810,
     "status": "ok",
     "timestamp": 1561610658905,
     "user": {
      "displayName": "Golobok go",
      "photoUrl": "",
      "userId": "03877817960545856005"
     },
     "user_tz": -420
    },
    "id": "dSIamu7xMojZ",
    "outputId": "215f5072-0d12-4825-94c5-9cc8d86085e5"
   },
   "outputs": [
    {
     "data": {
      "text/plain": [
       "{'AC/DC', 'Back in Black', 'NSYNC', 'Thriller'}"
      ]
     },
     "execution_count": 5,
     "metadata": {},
     "output_type": "execute_result"
    }
   ],
   "source": [
    "# Menambahkan elemen kedalam set\n",
    "\n",
    "A.add(\"NSYNC\")\n",
    "A"
   ]
  },
  {
   "cell_type": "markdown",
   "metadata": {
    "colab_type": "text",
    "id": "W4K6mW5gMojc"
   },
   "source": [
    "Jika kita menambahkan yang sama sebanyak dua kali, tidak akan terjadi perubahan karena tidak ada duplikasi pada set:"
   ]
  },
  {
   "cell_type": "code",
   "execution_count": 6,
   "metadata": {
    "colab": {
     "base_uri": "https://localhost:8080/",
     "height": 35
    },
    "colab_type": "code",
    "executionInfo": {
     "elapsed": 796,
     "status": "ok",
     "timestamp": 1561610664141,
     "user": {
      "displayName": "Golobok go",
      "photoUrl": "",
      "userId": "03877817960545856005"
     },
     "user_tz": -420
    },
    "id": "hanLSvErMojd",
    "outputId": "42d0ad16-6f50-41a3-f482-edacb4cb49f9"
   },
   "outputs": [
    {
     "data": {
      "text/plain": [
       "{'AC/DC', 'Back in Black', 'NSYNC', 'Thriller'}"
      ]
     },
     "execution_count": 6,
     "metadata": {},
     "output_type": "execute_result"
    }
   ],
   "source": [
    "# Coba tambahkan duplikasi elemen kedalam set\n",
    "\n",
    "A.add(\"NSYNC\")\n",
    "A"
   ]
  },
  {
   "cell_type": "markdown",
   "metadata": {
    "colab_type": "text",
    "id": "gVh8Z-kDMojg"
   },
   "source": [
    "  kita dapat menghapus sebuah item dari sebuah set menggunakan <code>remove</code>:"
   ]
  },
  {
   "cell_type": "code",
   "execution_count": 7,
   "metadata": {
    "colab": {
     "base_uri": "https://localhost:8080/",
     "height": 35
    },
    "colab_type": "code",
    "executionInfo": {
     "elapsed": 990,
     "status": "ok",
     "timestamp": 1561610670531,
     "user": {
      "displayName": "Golobok go",
      "photoUrl": "",
      "userId": "03877817960545856005"
     },
     "user_tz": -420
    },
    "id": "We3E9HTSMojh",
    "outputId": "80367432-8787-421e-bf84-c5a491215157"
   },
   "outputs": [
    {
     "data": {
      "text/plain": [
       "{'AC/DC', 'Back in Black', 'Thriller'}"
      ]
     },
     "execution_count": 7,
     "metadata": {},
     "output_type": "execute_result"
    }
   ],
   "source": [
    "# Hapus elemen dari set\n",
    "\n",
    "A.remove(\"NSYNC\")\n",
    "A"
   ]
  },
  {
   "cell_type": "markdown",
   "metadata": {
    "colab_type": "text",
    "id": "m6Qxmc1MMojk"
   },
   "source": [
    " Kita dapat memverifikasi sebuah elemen didalam set dengan menggunakan perintah <code>in</code>:"
   ]
  },
  {
   "cell_type": "code",
   "execution_count": 8,
   "metadata": {
    "colab": {
     "base_uri": "https://localhost:8080/",
     "height": 35
    },
    "colab_type": "code",
    "executionInfo": {
     "elapsed": 802,
     "status": "ok",
     "timestamp": 1561610676360,
     "user": {
      "displayName": "Golobok go",
      "photoUrl": "",
      "userId": "03877817960545856005"
     },
     "user_tz": -420
    },
    "id": "RxFqAEdWMojl",
    "outputId": "79615a0a-2f4d-417a-b9d6-f5573f434547"
   },
   "outputs": [
    {
     "data": {
      "text/plain": [
       "True"
      ]
     },
     "execution_count": 8,
     "metadata": {},
     "output_type": "execute_result"
    }
   ],
   "source": [
    "# Verifikasi jika elemen ada dalam set\n",
    "\n",
    "\"AC/DC\" in A"
   ]
  },
  {
   "cell_type": "markdown",
   "metadata": {
    "colab_type": "text",
    "id": "mhYGCPZ2Mojn"
   },
   "source": [
    "\n",
    "<h3 id=\"logic\">Operasi Logic pada Set</h3>"
   ]
  },
  {
   "cell_type": "markdown",
   "metadata": {
    "colab_type": "text",
    "id": "Kak2Ei--Mojo"
   },
   "source": [
    "Ingat bahwa dengan sets Anda dapat cek perbedaan diantara set-set, serta perbedaan simetris, irisan, dan gabungan:"
   ]
  },
  {
   "cell_type": "markdown",
   "metadata": {
    "colab_type": "text",
    "id": "jMqYfw61Mojp"
   },
   "source": [
    " Perhatikan dua set berikut:"
   ]
  },
  {
   "cell_type": "code",
   "execution_count": 9,
   "metadata": {
    "colab": {},
    "colab_type": "code",
    "collapsed": true,
    "id": "WTFTaApAMojq"
   },
   "outputs": [],
   "source": [
    "# Contoh Sets\n",
    "\n",
    "album_set1 = set([\"Thriller\", 'AC/DC', 'Back in Black'])\n",
    "album_set2 = set([ \"AC/DC\", \"Back in Black\", \"The Dark Side of the Moon\"])"
   ]
  },
  {
   "cell_type": "markdown",
   "metadata": {
    "colab_type": "text",
    "id": "aI8oxlN-Mojt"
   },
   "source": [
    "<img src=\"https://s3-api.us-geo.objectstorage.softlayer.net/cf-courses-data/CognitiveClass/PY0101EN/Chapter%202/Images/SetsSamples.png\" width=\"650\" />"
   ]
  },
  {
   "cell_type": "code",
   "execution_count": 10,
   "metadata": {
    "colab": {
     "base_uri": "https://localhost:8080/",
     "height": 52
    },
    "colab_type": "code",
    "executionInfo": {
     "elapsed": 793,
     "status": "ok",
     "timestamp": 1561616790246,
     "user": {
      "displayName": "Golobok go",
      "photoUrl": "",
      "userId": "03877817960545856005"
     },
     "user_tz": -420
    },
    "id": "irX-lUlnMoju",
    "outputId": "71ab87cf-e35c-4ab3-8a43-30ccbeef074a",
    "scrolled": true
   },
   "outputs": [
    {
     "data": {
      "text/plain": [
       "({'AC/DC', 'Back in Black', 'Thriller'},\n",
       " {'AC/DC', 'Back in Black', 'The Dark Side of the Moon'})"
      ]
     },
     "execution_count": 10,
     "metadata": {},
     "output_type": "execute_result"
    }
   ],
   "source": [
    "# Print dua buah set\n",
    "\n",
    "album_set1, album_set2"
   ]
  },
  {
   "cell_type": "markdown",
   "metadata": {
    "colab_type": "text",
    "id": "Z8XNhYcaMojw"
   },
   "source": [
    "Karena kedua set mengandung **AC/DC** dan **Back in Black**, kita merepresentasikan elemen-elemen ini dengan irisan dari dua buah lingkaran."
   ]
  },
  {
   "cell_type": "markdown",
   "metadata": {
    "colab_type": "text",
    "id": "PEH188n2Mojx"
   },
   "source": [
    "<img src = \"https://s3-api.us-geo.objectstorage.softlayer.net/cf-courses-data/CognitiveClass/PY0101EN/Chapter%202/Images/SetsLogic.png\" width = \"650\" />"
   ]
  },
  {
   "cell_type": "markdown",
   "metadata": {
    "colab_type": "text",
    "id": "KJZ9_nQ8Mojy"
   },
   "source": [
    "Kita dapat menemukan irisan dari dua set dengan menggunakan <code>&</code>"
   ]
  },
  {
   "cell_type": "code",
   "execution_count": 11,
   "metadata": {
    "colab": {
     "base_uri": "https://localhost:8080/",
     "height": 35
    },
    "colab_type": "code",
    "executionInfo": {
     "elapsed": 836,
     "status": "ok",
     "timestamp": 1561616804716,
     "user": {
      "displayName": "Golobok go",
      "photoUrl": "",
      "userId": "03877817960545856005"
     },
     "user_tz": -420
    },
    "id": "Y7pBqn5gMojz",
    "outputId": "f2caf741-fe69-4681-bc60-e74304dcaa8a"
   },
   "outputs": [
    {
     "data": {
      "text/plain": [
       "{'AC/DC', 'Back in Black'}"
      ]
     },
     "execution_count": 11,
     "metadata": {},
     "output_type": "execute_result"
    }
   ],
   "source": [
    "# Cari irisan dari dua buah set\n",
    "\n",
    "intersection = album_set1 & album_set2\n",
    "intersection"
   ]
  },
  {
   "cell_type": "markdown",
   "metadata": {
    "colab_type": "text",
    "id": "nOcEETFbMoj3"
   },
   "source": [
    "Anda dapat menemukan semua elemen yang hanya terkandung pada <code>album_set1</code> dengan menggunakan metode <code>difference</code>:"
   ]
  },
  {
   "cell_type": "code",
   "execution_count": 12,
   "metadata": {
    "colab": {
     "base_uri": "https://localhost:8080/",
     "height": 35
    },
    "colab_type": "code",
    "executionInfo": {
     "elapsed": 578,
     "status": "ok",
     "timestamp": 1561616811509,
     "user": {
      "displayName": "Golobok go",
      "photoUrl": "",
      "userId": "03877817960545856005"
     },
     "user_tz": -420
    },
    "id": "pliPrbVdMoj3",
    "outputId": "5d8236d9-d15e-40a4-be0e-915348064512"
   },
   "outputs": [
    {
     "data": {
      "text/plain": [
       "{'Thriller'}"
      ]
     },
     "execution_count": 12,
     "metadata": {},
     "output_type": "execute_result"
    }
   ],
   "source": [
    "# Cari perbedaan pada set1 tapi tidak pada set2\n",
    "\n",
    "album_set1.difference(album_set2)  "
   ]
  },
  {
   "cell_type": "markdown",
   "metadata": {
    "colab_type": "text",
    "id": "RdMnh0VjMoj-"
   },
   "source": [
    "Anda hanya perlu memperhatikan elemen dalam <code>album_set1</code>; semua elemen dalam <code>album_set2</code>, termasuk irisannya, tidak termasuk."
   ]
  },
  {
   "cell_type": "markdown",
   "metadata": {
    "colab_type": "text",
    "id": "7no1LaP6Moj_"
   },
   "source": [
    "<img src=\"https://s3-api.us-geo.objectstorage.softlayer.net/cf-courses-data/CognitiveClass/PY0101EN/Chapter%202/Images/SetsLeft.png\" width=\"650\" />"
   ]
  },
  {
   "cell_type": "markdown",
   "metadata": {
    "colab_type": "text",
    "id": "8BOMVj3rMokA"
   },
   "source": [
    "Elemen dalam <code>album_set2</code> tapi tidak pada <code>album_set1</code> diberikan dengan:"
   ]
  },
  {
   "cell_type": "code",
   "execution_count": 13,
   "metadata": {
    "colab": {
     "base_uri": "https://localhost:8080/",
     "height": 35
    },
    "colab_type": "code",
    "executionInfo": {
     "elapsed": 792,
     "status": "ok",
     "timestamp": 1561616818908,
     "user": {
      "displayName": "Golobok go",
      "photoUrl": "",
      "userId": "03877817960545856005"
     },
     "user_tz": -420
    },
    "id": "r18rd_HLMokC",
    "outputId": "902cb19d-06dd-41d8-dced-776cdbdb8609"
   },
   "outputs": [
    {
     "data": {
      "text/plain": [
       "{'The Dark Side of the Moon'}"
      ]
     },
     "execution_count": 13,
     "metadata": {},
     "output_type": "execute_result"
    }
   ],
   "source": [
    "album_set2.difference(album_set1)  "
   ]
  },
  {
   "cell_type": "markdown",
   "metadata": {
    "colab_type": "text",
    "id": "eAwH0Wp5MokH"
   },
   "source": [
    "<img src = \"https://s3-api.us-geo.objectstorage.softlayer.net/cf-courses-data/CognitiveClass/PY0101EN/Chapter%202/Images/SetsRight.png\" width=\"650\" />"
   ]
  },
  {
   "cell_type": "markdown",
   "metadata": {
    "colab_type": "text",
    "id": "7sluEJSvMokI"
   },
   "source": [
    "Anda bisa juga menemukan irisan dari <code>album_list1</code> dan <code>album_list2</code>, dengan menggunakan <code>intersection</code>:"
   ]
  },
  {
   "cell_type": "code",
   "execution_count": 14,
   "metadata": {
    "colab": {
     "base_uri": "https://localhost:8080/",
     "height": 35
    },
    "colab_type": "code",
    "executionInfo": {
     "elapsed": 987,
     "status": "ok",
     "timestamp": 1561616825826,
     "user": {
      "displayName": "Golobok go",
      "photoUrl": "",
      "userId": "03877817960545856005"
     },
     "user_tz": -420
    },
    "id": "N2JYmtYVMokJ",
    "outputId": "d0aca722-1ea7-4cb2-ac65-06571c3f39cb"
   },
   "outputs": [
    {
     "data": {
      "text/plain": [
       "{'AC/DC', 'Back in Black'}"
      ]
     },
     "execution_count": 14,
     "metadata": {},
     "output_type": "execute_result"
    }
   ],
   "source": [
    "# Gunakan intersection untuk menemukan irisan dari album_list1 dan album_list2\n",
    "\n",
    "album_set1.intersection(album_set2)   "
   ]
  },
  {
   "cell_type": "markdown",
   "metadata": {
    "colab_type": "text",
    "id": "fYwH01ilMokM"
   },
   "source": [
    "  Ini sesuai dengan irisan dari dua buah lingkaran:"
   ]
  },
  {
   "cell_type": "markdown",
   "metadata": {
    "colab_type": "text",
    "id": "58RIREOYMokN"
   },
   "source": [
    "<img src=\"https://s3-api.us-geo.objectstorage.softlayer.net/cf-courses-data/CognitiveClass/PY0101EN/Chapter%202/Images/SetsIntersect.png\" width=\"650\" />"
   ]
  },
  {
   "cell_type": "markdown",
   "metadata": {
    "colab_type": "text",
    "id": "5av9jKr4MokO"
   },
   "source": [
    "Sebuah gabungan (union) sesuai dengan semua elemen dari kedua set, dimana direpresentasikan dengan pewarnaan kedua lingkaran:"
   ]
  },
  {
   "cell_type": "markdown",
   "metadata": {
    "colab_type": "text",
    "id": "o6OsMNAgMokP"
   },
   "source": [
    "<img src = \"https://s3-api.us-geo.objectstorage.softlayer.net/cf-courses-data/CognitiveClass/PY0101EN/Chapter%202/Images/SetsUnion.png\" width=\"650\" />"
   ]
  },
  {
   "cell_type": "markdown",
   "metadata": {
    "colab_type": "text",
    "id": "ADyJBeu9MokR"
   },
   "source": [
    "  Gabungan diberikan dengan:"
   ]
  },
  {
   "cell_type": "code",
   "execution_count": 15,
   "metadata": {
    "colab": {
     "base_uri": "https://localhost:8080/",
     "height": 35
    },
    "colab_type": "code",
    "executionInfo": {
     "elapsed": 803,
     "status": "ok",
     "timestamp": 1561616831288,
     "user": {
      "displayName": "Golobok go",
      "photoUrl": "",
      "userId": "03877817960545856005"
     },
     "user_tz": -420
    },
    "id": "ZKyXTc8SMokR",
    "outputId": "0051b5a5-df91-46d8-e2a4-d5a025514a8e"
   },
   "outputs": [
    {
     "data": {
      "text/plain": [
       "{'AC/DC', 'Back in Black', 'The Dark Side of the Moon', 'Thriller'}"
      ]
     },
     "execution_count": 15,
     "metadata": {},
     "output_type": "execute_result"
    }
   ],
   "source": [
    "# Cari gabungan gabungan dari dua set\n",
    "\n",
    "album_set1.union(album_set2)"
   ]
  },
  {
   "cell_type": "markdown",
   "metadata": {
    "colab_type": "text",
    "id": "N_38Gux0MokT"
   },
   "source": [
    "Dan Anda dapat cek jika sebuah set adalah superset atau subset dari set lainnya, seperti ini:"
   ]
  },
  {
   "cell_type": "code",
   "execution_count": 16,
   "metadata": {
    "colab": {
     "base_uri": "https://localhost:8080/",
     "height": 35
    },
    "colab_type": "code",
    "executionInfo": {
     "elapsed": 997,
     "status": "ok",
     "timestamp": 1561616834246,
     "user": {
      "displayName": "Golobok go",
      "photoUrl": "",
      "userId": "03877817960545856005"
     },
     "user_tz": -420
    },
    "id": "mz_q2GwYMokU",
    "outputId": "b419aeed-8432-45e8-a20b-82537f6b8bdd"
   },
   "outputs": [
    {
     "data": {
      "text/plain": [
       "False"
      ]
     },
     "execution_count": 16,
     "metadata": {},
     "output_type": "execute_result"
    }
   ],
   "source": [
    "# Cek jika superset\n",
    "\n",
    "set(album_set1).issuperset(album_set2)   "
   ]
  },
  {
   "cell_type": "code",
   "execution_count": 17,
   "metadata": {
    "colab": {
     "base_uri": "https://localhost:8080/",
     "height": 35
    },
    "colab_type": "code",
    "executionInfo": {
     "elapsed": 808,
     "status": "ok",
     "timestamp": 1561616842468,
     "user": {
      "displayName": "Golobok go",
      "photoUrl": "",
      "userId": "03877817960545856005"
     },
     "user_tz": -420
    },
    "id": "IpNt7uR7MokX",
    "outputId": "2a0c9ee9-9c28-4d1a-d513-55580148ca7c"
   },
   "outputs": [
    {
     "data": {
      "text/plain": [
       "False"
      ]
     },
     "execution_count": 17,
     "metadata": {},
     "output_type": "execute_result"
    }
   ],
   "source": [
    "# Cek jika subset\n",
    "\n",
    "set(album_set2).issubset(album_set1)     "
   ]
  },
  {
   "cell_type": "markdown",
   "metadata": {
    "colab_type": "text",
    "id": "EtAOaLAbMokZ"
   },
   "source": [
    "Ini adalah sebuah contoh dimana <code>issubset()</code> dan <code>issuperset()</code> mengembalikan nilai true:"
   ]
  },
  {
   "cell_type": "code",
   "execution_count": 18,
   "metadata": {
    "colab": {
     "base_uri": "https://localhost:8080/",
     "height": 35
    },
    "colab_type": "code",
    "executionInfo": {
     "elapsed": 1152,
     "status": "ok",
     "timestamp": 1561616847290,
     "user": {
      "displayName": "Golobok go",
      "photoUrl": "",
      "userId": "03877817960545856005"
     },
     "user_tz": -420
    },
    "id": "baGBsE_ZMoka",
    "outputId": "583461a1-e770-4c46-eab4-826f38034d68"
   },
   "outputs": [
    {
     "data": {
      "text/plain": [
       "True"
      ]
     },
     "execution_count": 18,
     "metadata": {},
     "output_type": "execute_result"
    }
   ],
   "source": [
    "# Check if subset\n",
    "\n",
    "set({\"Back in Black\", \"AC/DC\"}).issubset(album_set1) "
   ]
  },
  {
   "cell_type": "code",
   "execution_count": 19,
   "metadata": {
    "colab": {
     "base_uri": "https://localhost:8080/",
     "height": 35
    },
    "colab_type": "code",
    "executionInfo": {
     "elapsed": 820,
     "status": "ok",
     "timestamp": 1561616854932,
     "user": {
      "displayName": "Golobok go",
      "photoUrl": "",
      "userId": "03877817960545856005"
     },
     "user_tz": -420
    },
    "id": "L7Vx4jM8Mokc",
    "outputId": "a0204004-36e7-4753-ef69-9db7f3f2a8d7"
   },
   "outputs": [
    {
     "data": {
      "text/plain": [
       "True"
      ]
     },
     "execution_count": 19,
     "metadata": {},
     "output_type": "execute_result"
    }
   ],
   "source": [
    "# Check if superset\n",
    "\n",
    "album_set1.issuperset({\"Back in Black\", \"AC/DC\"})   "
   ]
  },
  {
   "cell_type": "markdown",
   "metadata": {
    "colab_type": "text",
    "id": "UjyiWyABMokg"
   },
   "source": [
    "<hr>"
   ]
  },
  {
   "cell_type": "markdown",
   "metadata": {
    "colab_type": "text",
    "id": "8dxiFL7KMokg"
   },
   "source": [
    "<h2 id=\"quiz\">Kuis tentang Sets</h2>"
   ]
  },
  {
   "cell_type": "markdown",
   "metadata": {
    "colab_type": "text",
    "id": "PD7Cygx-Mokh"
   },
   "source": [
    "Konversi list <code>['rap','house','electronic music', 'rap']</code> menjadi sebuah set:"
   ]
  },
  {
   "cell_type": "code",
   "execution_count": 20,
   "metadata": {
    "colab": {},
    "colab_type": "code",
    "collapsed": true,
    "id": "eG_JlLu-Moki"
   },
   "outputs": [],
   "source": [
    "# Tulis kode Anda dibawah dan tekan Shift+Enter untuk eksekusi"
   ]
  },
  {
   "cell_type": "markdown",
   "metadata": {
    "colab_type": "text",
    "id": "0BHe-IEkMokl"
   },
   "source": [
    "Klik dua kali <b>disini</b> untuk solusinya.\n",
    "\n",
    "<!-- Your answer is below:\n",
    "set(['rap','house','electronic music','rap'])\n",
    "-->"
   ]
  },
  {
   "cell_type": "markdown",
   "metadata": {
    "colab_type": "text",
    "id": "R75Bz2CZMokm"
   },
   "source": [
    "<hr>"
   ]
  },
  {
   "cell_type": "markdown",
   "metadata": {
    "colab_type": "text",
    "id": "b0ZEikTyMokn"
   },
   "source": [
    "Perhatikan list <code>A = [1, 2, 2, 1]</code> dan set <code>B = set([1, 2, 2, 1])</code>, lakukan <code>sum(A) = sum(B)</code> "
   ]
  },
  {
   "cell_type": "code",
   "execution_count": 21,
   "metadata": {
    "colab": {},
    "colab_type": "code",
    "collapsed": true,
    "id": "9LMmfmilMokn"
   },
   "outputs": [],
   "source": [
    "# Tulis kode Anda dibawah dan tekan Shift+Enter untuk eksekusi"
   ]
  },
  {
   "cell_type": "markdown",
   "metadata": {
    "colab_type": "text",
    "id": "M_XXCc_9Mokq"
   },
   "source": [
    "Klik dua kali <b>disini</b> untuk solusinya.\n",
    "\n",
    "<!-- Your answer is below:\n",
    "A = [1, 2, 2, 1]  \n",
    "B = set([1, 2, 2, 1])\n",
    "print(\"the sum of A is:\", sum(A))\n",
    "print(\"the sum of B is:\", sum(B))\n",
    "-->"
   ]
  },
  {
   "cell_type": "markdown",
   "metadata": {
    "colab_type": "text",
    "id": "RTprIgkQMokr"
   },
   "source": [
    "<hr>"
   ]
  },
  {
   "cell_type": "markdown",
   "metadata": {
    "colab_type": "text",
    "id": "eFzjXoLwMokr"
   },
   "source": [
    "Buat sebuah set baru <code>album_set3</code> yang merupakan gabungan (union) dari <code>album_set1</code> dan <code>album_set2</code>:"
   ]
  },
  {
   "cell_type": "code",
   "execution_count": 22,
   "metadata": {
    "colab": {},
    "colab_type": "code",
    "collapsed": true,
    "id": "Omxibe7UMokt"
   },
   "outputs": [],
   "source": [
    "# Tulis kode Anda dibawah dan tekan Shift+Enter untuk eksekusi\n",
    "\n",
    "album_set1 = set([\"Thriller\", 'AC/DC', 'Back in Black'])\n",
    "album_set2 = set([ \"AC/DC\", \"Back in Black\", \"The Dark Side of the Moon\"])"
   ]
  },
  {
   "cell_type": "markdown",
   "metadata": {
    "colab_type": "text",
    "id": "-bQGQv_sMokw"
   },
   "source": [
    "Klik dua kali <b>disini</b> untuk solusinya.\n",
    "\n",
    "<!-- Your answer is below:\n",
    "album_set3 = album_set1.union(album_set2)\n",
    "album_set3\n",
    "-->"
   ]
  },
  {
   "cell_type": "markdown",
   "metadata": {
    "colab_type": "text",
    "id": "AEJKK5AvMokx"
   },
   "source": [
    "<hr>"
   ]
  },
  {
   "cell_type": "markdown",
   "metadata": {
    "colab_type": "text",
    "id": "NfIC54yZMok0"
   },
   "source": [
    "Temukan jika <code>album_set1</code> adalah subset dari <code>album_set3</code>:"
   ]
  },
  {
   "cell_type": "code",
   "execution_count": 23,
   "metadata": {
    "colab": {},
    "colab_type": "code",
    "collapsed": true,
    "id": "NV_rMvCeMok1"
   },
   "outputs": [],
   "source": [
    "# Tulis kode Anda dibawah dan tekan Shift+Enter untuk eksekusi"
   ]
  },
  {
   "cell_type": "markdown",
   "metadata": {
    "colab_type": "text",
    "id": "nNdE2HFcMok5"
   },
   "source": [
    "Klik dua kali <b>disini</b> untuk solusinya.\n",
    "\n",
    "<!-- Your answer is below:\n",
    "album_set1.issubset(album_set3)\n",
    "-->"
   ]
  },
  {
   "cell_type": "markdown",
   "metadata": {
    "colab_type": "text",
    "id": "4EFZpEBwMok8"
   },
   "source": [
    "<h3>About the Authors:</h3>  \n",
    "<p><a href=\"https://www.linkedin.com/in/joseph-s-50398b136/\" target=\"_blank\">Joseph Santarcangelo</a> is a Data Scientist at IBM, and holds a PhD in Electrical Engineering. His research focused on using Machine Learning, Signal Processing, and Computer Vision to determine how videos impact human cognition. Joseph has been working for IBM since he completed his PhD.</p>"
   ]
  },
  {
   "cell_type": "markdown",
   "metadata": {
    "colab_type": "text",
    "id": "vHkXkKTBMok8"
   },
   "source": [
    "Other contributors: <a href=\"www.linkedin.com/in/jiahui-mavis-zhou-a4537814a\">Mavis Zhou</a>"
   ]
  },
  {
   "cell_type": "markdown",
   "metadata": {
    "colab_type": "text",
    "id": "c91GeJkDMok9"
   },
   "source": [
    "<hr>"
   ]
  },
  {
   "cell_type": "markdown",
   "metadata": {
    "colab_type": "text",
    "id": "Syr_4O06Mok9"
   },
   "source": [
    "<p>Copyright &copy; 2018 IBM Developer Skills Network. This notebook and its source code are released under the terms of the <a href=\"https://cognitiveclass.ai/mit-license/\">MIT License</a>.</p>"
   ]
  }
 ],
 "metadata": {
  "colab": {
   "collapsed_sections": [],
   "name": "Lab-Sesi8-5.ipynb",
   "provenance": [],
   "version": "0.3.2"
  },
  "kernelspec": {
   "display_name": "Python 3",
   "language": "python",
   "name": "python3"
  },
  "language_info": {
   "codemirror_mode": {
    "name": "ipython",
    "version": 3
   },
   "file_extension": ".py",
   "mimetype": "text/x-python",
   "name": "python",
   "nbconvert_exporter": "python",
   "pygments_lexer": "ipython3",
   "version": "3.6.3"
  }
 },
 "nbformat": 4,
 "nbformat_minor": 1
}
