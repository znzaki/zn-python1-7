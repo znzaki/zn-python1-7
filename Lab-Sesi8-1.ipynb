{
 "cells": [
  {
   "cell_type": "markdown",
   "metadata": {
    "colab_type": "text",
    "id": "OKiCXwBR37VI"
   },
   "source": [
    "![title](img/header.png)"
   ]
  },
  {
   "cell_type": "markdown",
   "metadata": {
    "colab_type": "text",
    "id": "ZRRmDb7537VL"
   },
   "source": [
    "<h1>Python - Dasar Tipe Data</h1>"
   ]
  },
  {
   "cell_type": "markdown",
   "metadata": {
    "colab_type": "text",
    "id": "Y5tuAqTN37VM"
   },
   "source": [
    "Notebook ini digunakan untuk mempelajari dasar-dasar pemrograman Python. Tujuan dari Lab pertama ini adalah untuk memahami perintah-perintah dasar Python, mengenali tipe data dasar, dan melakukan operasi-operasi sederhana"
   ]
  },
  {
   "cell_type": "markdown",
   "metadata": {
    "colab_type": "text",
    "id": "4RmHVYvY37VO"
   },
   "source": [
    "<h2>Daftar Isi</h2>\n",
    "<div class=\"alert alert-block alert-info\" style=\"margin-top: 20px\">\n",
    "    <ul>\n",
    "        <li>\n",
    "            <a href=\"#hello\">Hello world!</a>\n",
    "            <ul>\n",
    "                <li><a href=\"#version\">Mengecek versi Python</a></li>\n",
    "                <li><a href=\"#comments\">Menambahkan komentar di Python</a></li>\n",
    "                <li><a href=\"errors\">Error di Python</a></li>\n",
    "                <li><a href=\"python_error\">Dapatkah Python mengenali error sebelum dijalankan?</a></li>\n",
    "                <li><a href=\"exercise\">Latihan: Membuat Program Pertama</a></li>\n",
    "            </ul>\n",
    "        </li>\n",
    "        <li>\n",
    "            <a href=\"#types_objects\">Tipe dari objek di Python</a>\n",
    "            <ul>\n",
    "                <li><a href=\"int\">Integers</a></li>\n",
    "                <li><a href=\"float\">Floats</a></li>\n",
    "                <li><a href=\"convert\">Mengubah tipe objek</a></li>\n",
    "                <li><a href=\"bool\">Tipe data Boolean</a></li>\n",
    "                <li><a href=\"exer_type\">Latihan: Tipe</a></li>\n",
    "            </ul>\n",
    "        </li>\n",
    "        <li>\n",
    "            <a href=\"#expressions\">Ekspresi dan variabel</a>\n",
    "            <ul>\n",
    "                <li><a href=\"exp\">Ekspresi</a></li>\n",
    "                <li><a href=\"exer_exp\">Latihan: Ekspresi</a></li>\n",
    "                <li><a href=\"var\">Variabel</a></li>\n",
    "                <li><a href=\"exer_exp_var\">Latihan: Ekspresi dan Variabel di Python</a></li>\n",
    "            </ul>\n",
    "        </li>\n",
    "    </ul>\n",
    "    <p>\n",
    "        Perkiraan waktu mengerjakan: <strong>25 menit</strong>\n",
    "    </p>\n",
    "</div>\n",
    "\n",
    "<hr>"
   ]
  },
  {
   "cell_type": "markdown",
   "metadata": {
    "colab_type": "text",
    "id": "iXbyQAcU37VP"
   },
   "source": [
    "<h2 name=\"hello\">Hello World!</h2>"
   ]
  },
  {
   "cell_type": "markdown",
   "metadata": {
    "colab_type": "text",
    "id": "w0YIPaqz37VQ"
   },
   "source": [
    "Sudah menjadi kebiasaan umum di kalangan programmer untuk menuliskan \"hello world\" ketika pertama kali mempelajari suatu bahasa pemrograman baru. Cell di bawah ini berisi perintah untuk menampilkan tulisan \"hello world\" di layar"
   ]
  },
  {
   "cell_type": "markdown",
   "metadata": {
    "colab_type": "text",
    "id": "aj5E3kYj37VS"
   },
   "source": [
    "<hr/>\n",
    "<div class=\"alert alert-success alertsuccess\" style=\"margin-top: 20px\">\n",
    "[Tips]: Tekan  <kbd>Shift</kbd> + <kbd>Enter</kbd> untuk menjalankan kode pada cell di bawah ini.\n",
    "</div>\n",
    "<hr/>"
   ]
  },
  {
   "cell_type": "code",
   "execution_count": 1,
   "metadata": {
    "colab": {},
    "colab_type": "code",
    "id": "ykkHj1OG37VT"
   },
   "outputs": [
    {
     "name": "stdout",
     "output_type": "stream",
     "text": [
      "Hello, Python!\n"
     ]
    }
   ],
   "source": [
    "# Coba jalankan cell ini\n",
    "\n",
    "print('Hello, Python!')"
   ]
  },
  {
   "cell_type": "markdown",
   "metadata": {
    "colab_type": "text",
    "id": "szY-9yXK37Va"
   },
   "source": [
    "Setelah menjalankan cell di atas, tulisan <code>Hello, Python!</code> seharusnya muncul di layar."
   ]
  },
  {
   "cell_type": "markdown",
   "metadata": {
    "colab_type": "text",
    "id": "tLwNYKmg37Vc"
   },
   "source": [
    "<hr/>\n",
    "<div class=\"alert alert-success alertsuccess\" style=\"margin-top: 20px\">\n",
    "    [Tips:] <code>print()</code> merupakan sebuah fungsi. Fungsi <code>print()</code> menerima masukan berupa string dan menampilkan di layar.    \n",
    "</div>\n",
    "<hr/>"
   ]
  },
  {
   "cell_type": "markdown",
   "metadata": {
    "colab_type": "text",
    "id": "ddTLVGYK37Vd"
   },
   "source": [
    "<h3 id=\"version\">Mengecek versi Python</h3>"
   ]
  },
  {
   "cell_type": "markdown",
   "metadata": {
    "colab_type": "text",
    "id": "UPiOBSrO37Vf"
   },
   "source": [
    "<p>Terdapat dua versi Python yang banyak digunakan saat ini: Python 2 dan Python 3. Saat ini merupakan transisi dari Python 2 ke Python3, sehingga banyak library yang merencanakan untuk menghentikan dukungan terhadap Python 2.</p>\n",
    "<p>Pada pelatihan ini versi Python yang digunakan adalah Python 3. Bagaimana cara kita mengecek versi Python yang digunakan? Terdapat beberapa cara untuk mengecek versi Python :\n",
    "<ol>\n",
    "    <li>Lihat bagian kanan atas pada Jupyter. Versi yang tercantum adalah Python 3.</li>\n",
    "    <li>Menjalankan kode dalam bahasa Python seperti yang tercantum pada cell di bawah ini</li>\n",
    "</ol>\n",
    "\n",
    "</p>"
   ]
  },
  {
   "cell_type": "code",
   "execution_count": 2,
   "metadata": {
    "colab": {},
    "colab_type": "code",
    "id": "ZaO8YLAo37Vg"
   },
   "outputs": [
    {
     "name": "stdout",
     "output_type": "stream",
     "text": [
      "3.6.3 |Anaconda custom (64-bit)| (default, Oct 15 2017, 03:27:45) [MSC v.1900 64 bit (AMD64)]\n"
     ]
    }
   ],
   "source": [
    "# Mengecek versi Python yang terinstall\n",
    "\n",
    "import sys\n",
    "print(sys.version)"
   ]
  },
  {
   "cell_type": "markdown",
   "metadata": {
    "colab_type": "text",
    "id": "fN-nOT5d37Vj"
   },
   "source": [
    "<hr/>\n",
    "<div class=\"alert alert-success alertsuccess\" style=\"margin-top: 20px\">\n",
    "    [Tips:] <code>sys</code> merupakan modul bawaan Python yang berisi berbagai parameter dan fungsi yang berhubungan dengan sistem Python. Sebelum digunakan, perlu dilakukan proses <code>import</code> terlebih dahulu.\n",
    "</div>\n",
    "<hr/>"
   ]
  },
  {
   "cell_type": "markdown",
   "metadata": {
    "colab_type": "text",
    "id": "BWJzIkiF37Vk"
   },
   "source": [
    "<h3 id=\"comments\">Menambahkan komentar di Python</h3>"
   ]
  },
  {
   "cell_type": "markdown",
   "metadata": {
    "colab_type": "text",
    "id": "jkjLQPR537Vl"
   },
   "source": [
    "<p>Dalam penulisan kode program (source code) seringkali perlu penambahan komentar pada kode. Komentar dapat digunakan untuk memberikan penjelasan tambahan mengenai kode sehingga dapat dipahami dengan mudah oleh orang lain ataupun sebagai referensi di masa mendatang.</p>"
   ]
  },
  {
   "cell_type": "code",
   "execution_count": 3,
   "metadata": {
    "colab": {},
    "colab_type": "code",
    "id": "HytXggkA37Vm"
   },
   "outputs": [
    {
     "name": "stdout",
     "output_type": "stream",
     "text": [
      "Hello, Python!\n"
     ]
    }
   ],
   "source": [
    "# Latihan menuliskan komentar\n",
    "\n",
    "print('Hello, Python!') #Menampilkan tulisan di layar\n",
    "# print('Hi')"
   ]
  },
  {
   "cell_type": "markdown",
   "metadata": {
    "colab_type": "text",
    "id": "k_rfuSSb37Vq"
   },
   "source": [
    "<p>Setelah cell di atas dieksekusi, Anda melihat bahwa tulisan <code>Menampilkan tulisan di layar</code> tidak ditampilkan di layar karena tulisan tersebut merupakan komentar yang tidak dieksekusi oleh Python</p>\n",
    "\n",
    "<p>Demikian juga dengan perintah <code>print('Hi')</code> yang diawali dengan tanda pagar (<code>#</code>) tidak akan dieksekusi oleh Python.</p>"
   ]
  },
  {
   "cell_type": "markdown",
   "metadata": {
    "colab_type": "text",
    "id": "AAsxc2p037Vr"
   },
   "source": [
    "<h3 id=\"errors\">Errors di Python</h3>"
   ]
  },
  {
   "cell_type": "markdown",
   "metadata": {
    "colab_type": "text",
    "id": "NchPfP0C37Vs"
   },
   "source": [
    "<p>Error merupakan hal yang wajar terjadi dalam penulisan kode program. Apabila terjadi error, Python akan menampilkan pesan error. Pengenalan error sangat diperlukan untuk mengetahui lokasi dan penyebab error sehingga memudahkan Anda dalam memperbaiki error yang terjadi.</p>\n",
    "<p>Sebagai contoh, jika Anda salah mengetik <code>print</code> dengan <code>frint</code>, maka Python akan menampilkan pesan error. Coba jalankan cell di bawah ini</p>"
   ]
  },
  {
   "cell_type": "code",
   "execution_count": 4,
   "metadata": {
    "colab": {},
    "colab_type": "code",
    "id": "fTTdQCL437Vt"
   },
   "outputs": [
    {
     "ename": "NameError",
     "evalue": "name 'frint' is not defined",
     "output_type": "error",
     "traceback": [
      "\u001b[1;31m---------------------------------------------------------------------------\u001b[0m",
      "\u001b[1;31mNameError\u001b[0m                                 Traceback (most recent call last)",
      "\u001b[1;32m<ipython-input-4-72cfe7d468e2>\u001b[0m in \u001b[0;36m<module>\u001b[1;34m()\u001b[0m\n\u001b[0;32m      1\u001b[0m \u001b[1;31m# Kesalahan pemanggilan fungsi print\u001b[0m\u001b[1;33m\u001b[0m\u001b[1;33m\u001b[0m\u001b[0m\n\u001b[0;32m      2\u001b[0m \u001b[1;33m\u001b[0m\u001b[0m\n\u001b[1;32m----> 3\u001b[1;33m \u001b[0mfrint\u001b[0m\u001b[1;33m(\u001b[0m\u001b[1;34m\"Hello, Python!\"\u001b[0m\u001b[1;33m)\u001b[0m\u001b[1;33m\u001b[0m\u001b[0m\n\u001b[0m",
      "\u001b[1;31mNameError\u001b[0m: name 'frint' is not defined"
     ]
    }
   ],
   "source": [
    "# Kesalahan pemanggilan fungsi print\n",
    "\n",
    "frint(\"Hello, Python!\")"
   ]
  },
  {
   "cell_type": "markdown",
   "metadata": {
    "colab_type": "text",
    "id": "CNS7Yuz137Vz"
   },
   "source": [
    "<p>Pesan error di atas menunjukkan :\n",
    "    <ol>\n",
    "        <li>Lokasi error (ditunjukkan dengan tanda panad)</li>\n",
    "        <li>Jenis dari error yang terjadi</li>\n",
    "    </ol>\n",
    "</p>\n",
    "<p>Pada contoh ini, Python mencoba menjalankan fungsi <code>frint</code>, tetapi tidak dapat menemukan fungsi tersebut karena fungsi <code>frint</code> tidak terdapat pada fungsi bawaan Python dan juga belum pernah dibuat oleh pengguna</p>"
   ]
  },
  {
   "cell_type": "markdown",
   "metadata": {
    "colab_type": "text",
    "id": "AtwLGztK37V0"
   },
   "source": [
    "Apabila Anda melakukan jenis kesalahan yang berbeda, maka pesan error yang ditampilkan akan berbeda pula. Contoh di bawah ini merupakan kesalahan penulisan String tanpa tanda kutip dua di akhir String"
   ]
  },
  {
   "cell_type": "code",
   "execution_count": null,
   "metadata": {
    "colab": {},
    "colab_type": "code",
    "collapsed": true,
    "id": "bjQ2vGvg37V1"
   },
   "outputs": [],
   "source": [
    "# Jalankan kode berikut\n",
    "\n",
    "print(\"Hello, Python!)"
   ]
  },
  {
   "cell_type": "markdown",
   "metadata": {
    "colab_type": "text",
    "id": "TLM2rZkp37V3"
   },
   "source": [
    "<h3 id=\"python_error\">Dapatkah Python mengenali error sebelum dijalankan?</h3>"
   ]
  },
  {
   "cell_type": "markdown",
   "metadata": {
    "colab_type": "text",
    "id": "djhzz1HO37V4"
   },
   "source": [
    "<p>Python merupakan <i>interpreted language</i>, bukan <i>compiled language</i>. <i>Compiled language</i> akan memeriksa keseluruhan kode pada saat proses kompilasi, dan dapat memberikan peringatan sebelum kode dieksekusi. Sebaliknya, Python sebagai <i>interpreted language</i> langsung menjalankan kode program baris demi baris. Python akan berhenti menjalankan kode ketika mendapati adanya error, kecuali jika dilakukan error handling secara terpisah</p>"
   ]
  },
  {
   "cell_type": "markdown",
   "metadata": {
    "colab_type": "text",
    "id": "Pim-ReSf37V5"
   },
   "source": [
    "Jalankan cell di bawah ini dan amati hasilnya"
   ]
  },
  {
   "cell_type": "code",
   "execution_count": null,
   "metadata": {
    "colab": {},
    "colab_type": "code",
    "collapsed": true,
    "id": "SOYoPfZc37V5"
   },
   "outputs": [],
   "source": [
    "# Print string dan error untuk melihat urutan eksekusi\n",
    "\n",
    "print(\"This will be printed\")\n",
    "frint(\"This will cause an error\")\n",
    "print(\"This will NOT be printed\")"
   ]
  },
  {
   "cell_type": "markdown",
   "metadata": {
    "colab_type": "text",
    "id": "-q9pSWZX37V8"
   },
   "source": [
    "<h3 id=\"exercise\">Latihan: Membuat Program Pertama</h3>"
   ]
  },
  {
   "cell_type": "markdown",
   "metadata": {
    "colab_type": "text",
    "id": "h75PHBbi37V9"
   },
   "source": [
    "Tampilkan kata <code>Hello, world!</code> menggunakan fungsi <code>print()</code>"
   ]
  },
  {
   "cell_type": "code",
   "execution_count": null,
   "metadata": {
    "colab": {},
    "colab_type": "code",
    "collapsed": true,
    "id": "7bCdy_4E37V-"
   },
   "outputs": [],
   "source": [
    "# Tulis kode disini dan tekan Shift+Enter"
   ]
  },
  {
   "cell_type": "markdown",
   "metadata": {
    "colab_type": "text",
    "id": "R0h3Ww2j37WA"
   },
   "source": [
    "Double-click __disini__ untuk menampilkan jawaban.\n",
    "\n",
    "<!-- Your answer is below:\n",
    "\n",
    "print(\"Hello, world!\")\n",
    "\n",
    "-->"
   ]
  },
  {
   "cell_type": "markdown",
   "metadata": {
    "colab_type": "text",
    "id": "wdvCUhqy37WB"
   },
   "source": [
    "<p>Now, let's enhance your code with a comment. In the code cell below, print out the phrase: <code>Hello, world!</code> and comment it with the phrase <code>Print the traditional hello world</code> all in one line of code.</p>"
   ]
  },
  {
   "cell_type": "markdown",
   "metadata": {
    "colab_type": "text",
    "id": "r7tNZyub37WC"
   },
   "source": [
    "Tambahkan komentar pada kode program. Tampilkan tulisan <code>Hello, world!</code> dan komentar berupa kalimat <code>Tampilkan tulisan hello world</code> dalam satu baris"
   ]
  },
  {
   "cell_type": "code",
   "execution_count": null,
   "metadata": {
    "colab": {},
    "colab_type": "code",
    "collapsed": true,
    "id": "BlvsGhOT37WC"
   },
   "outputs": [],
   "source": [
    "# Tulis kode disini dan tekan Shift+Enter"
   ]
  },
  {
   "cell_type": "markdown",
   "metadata": {
    "colab_type": "text",
    "id": "kYC5Jvtl37WG"
   },
   "source": [
    "Double-click __disini__ untuk menampilkan jawaban.\n",
    "\n",
    "<!-- Your answer is below:\n",
    "\n",
    "print(\"Hello, world!\") # Print the traditional hello world\n",
    "\n",
    "-->\n"
   ]
  },
  {
   "cell_type": "markdown",
   "metadata": {
    "colab_type": "text",
    "id": "20pKwTSG37WH"
   },
   "source": [
    "<hr>"
   ]
  },
  {
   "cell_type": "markdown",
   "metadata": {
    "colab_type": "text",
    "id": "H9Xd-4q137WI"
   },
   "source": [
    "<h2 id=\"types_objects\" align=\"center\">Tipe dari objek di Python</h2>"
   ]
  },
  {
   "cell_type": "markdown",
   "metadata": {
    "colab_type": "text",
    "id": "fXXf8WR337WJ"
   },
   "source": [
    "Python merupakan bahasa pemrograman yang dapat menganut filosofi <i>object oriented programming</i>. Terdapat bermacam-macam tipe objek di Python. Tipe objek yang umum adalah : <i>string, integer, dan float</i>. Semua teks yang dituliskan pada Python merupakan <i>string</i>. Bilangan bulat (contoh: -1,0,100) memiliki tipe objek <i>integer</i> sedangkan bilangan pecahan (contoh : 3.14 , -37.5) memiliki tipe objek <i>float</i>."
   ]
  },
  {
   "cell_type": "markdown",
   "metadata": {
    "colab_type": "text",
    "id": "ryHg0Uim37WL"
   },
   "source": [
    "<a align=\"center\">\n",
    "    <img src=\"https://s3-api.us-geo.objectstorage.softlayer.net/cf-courses-data/CognitiveClass/PY0101EN/Chapter%201/Images/TypesObjects.png\" width=\"600\">\n",
    "</a>"
   ]
  },
  {
   "cell_type": "markdown",
   "metadata": {
    "colab_type": "text",
    "id": "lqz1BPMw37WN"
   },
   "source": [
    "<p>Cell di bawah ini berisi beberapa contoh.</p>"
   ]
  },
  {
   "cell_type": "code",
   "execution_count": null,
   "metadata": {
    "colab": {},
    "colab_type": "code",
    "collapsed": true,
    "id": "JKMKgzDR37WR"
   },
   "outputs": [],
   "source": [
    "# Integer\n",
    "\n",
    "11"
   ]
  },
  {
   "cell_type": "code",
   "execution_count": null,
   "metadata": {
    "colab": {},
    "colab_type": "code",
    "collapsed": true,
    "id": "wIy3eUYH37WX"
   },
   "outputs": [],
   "source": [
    "# Float\n",
    "\n",
    "2.14"
   ]
  },
  {
   "cell_type": "code",
   "execution_count": null,
   "metadata": {
    "colab": {},
    "colab_type": "code",
    "collapsed": true,
    "id": "0EgNySbD37Wc"
   },
   "outputs": [],
   "source": [
    "# String\n",
    "\n",
    "\"Hello, Python 101!\""
   ]
  },
  {
   "cell_type": "markdown",
   "metadata": {
    "colab_type": "text",
    "id": "7w3TGDmV37Wg"
   },
   "source": [
    "Python dapat menampilkan tipe objek dari suatu variabel dengan menggunakan fungsi bawaan <code>type()</code> dengan parameter masukan berupa variabel yang akan dicek tipenya. Python akan menampilkan tipe objek integer dengan tulisan <code>int</code>, float dengan tulisan <code>float</code>, dan string dengan tulisan <code>string</code>."
   ]
  },
  {
   "cell_type": "code",
   "execution_count": null,
   "metadata": {
    "colab": {},
    "colab_type": "code",
    "collapsed": true,
    "id": "2lZKXtDd37Wh"
   },
   "outputs": [],
   "source": [
    "# Tipe dari angka 12\n",
    "\n",
    "type(12)"
   ]
  },
  {
   "cell_type": "code",
   "execution_count": null,
   "metadata": {
    "colab": {},
    "colab_type": "code",
    "collapsed": true,
    "id": "aqNEfbUJ37Wk"
   },
   "outputs": [],
   "source": [
    "# Tipe dari angka 2.14\n",
    "\n",
    "type(2.14)"
   ]
  },
  {
   "cell_type": "code",
   "execution_count": null,
   "metadata": {
    "colab": {},
    "colab_type": "code",
    "collapsed": true,
    "id": "tQqT57ZJ37Wq"
   },
   "outputs": [],
   "source": [
    "# Tipe dari string \"Hello, Python 101!\"\n",
    "\n",
    "type(\"Hello, Python 101!\")"
   ]
  },
  {
   "cell_type": "markdown",
   "metadata": {
    "colab_type": "text",
    "id": "b_jwO4rA37Wt"
   },
   "source": [
    "<p>In the code cell below, use the <code>type()</code> function to check the object type of <code>12.0</code>."
   ]
  },
  {
   "cell_type": "markdown",
   "metadata": {
    "colab_type": "text",
    "id": "952AjH3037Wu"
   },
   "source": [
    "Pada cell di bawah ini, gunakan fungsi <code>type()</code> untuk mengecek tipe dari angka <code>3.14</code>"
   ]
  },
  {
   "cell_type": "code",
   "execution_count": null,
   "metadata": {
    "colab": {},
    "colab_type": "code",
    "collapsed": true,
    "id": "OVXS0fHN37Wv"
   },
   "outputs": [],
   "source": [
    "# Write your code below. Don't forget to press Shift+Enter to execute the cell"
   ]
  },
  {
   "cell_type": "markdown",
   "metadata": {
    "colab_type": "text",
    "id": "bDkGN2Ae37Wz"
   },
   "source": [
    "Double-click __disini__ untuk menampilkan jawaban.\n",
    "\n",
    "<!-- Your answer is below:\n",
    "\n",
    "type(3.14.0)\n",
    "\n",
    "-->"
   ]
  },
  {
   "cell_type": "markdown",
   "metadata": {
    "colab_type": "text",
    "id": "YgD-_vX737W0"
   },
   "source": [
    "<h3 id=\"int\">Integers</h3>"
   ]
  },
  {
   "cell_type": "markdown",
   "metadata": {
    "colab_type": "text",
    "id": "FDXbsQKJ37W1"
   },
   "source": [
    "Berikut merupakan contoh tipe objek integer. Integer berupa bilangan bulat, baik positif maupun negatif."
   ]
  },
  {
   "cell_type": "markdown",
   "metadata": {
    "colab_type": "text",
    "id": "IGyJ0Q3W37W2"
   },
   "source": [
    "<a align=\"center\">\n",
    "    <img src=\"https://s3-api.us-geo.objectstorage.softlayer.net/cf-courses-data/CognitiveClass/PY0101EN/Chapter%201/Images/TypesInt.png\" width=\"600\">\n",
    "</a>"
   ]
  },
  {
   "cell_type": "markdown",
   "metadata": {
    "colab_type": "text",
    "id": "NsjwCcHY37W3"
   },
   "source": [
    "Anda dapat mengecek tipe dari angka menggunakan fungsi <code>type()</code>"
   ]
  },
  {
   "cell_type": "code",
   "execution_count": null,
   "metadata": {
    "colab": {},
    "colab_type": "code",
    "collapsed": true,
    "id": "EB9jFwle37W5"
   },
   "outputs": [],
   "source": [
    "# Tampilkan tipe dari angka -1\n",
    "\n",
    "type(-1)"
   ]
  },
  {
   "cell_type": "code",
   "execution_count": null,
   "metadata": {
    "colab": {},
    "colab_type": "code",
    "collapsed": true,
    "id": "Y6nnKDF437XA"
   },
   "outputs": [],
   "source": [
    "# Tampilkan tipe dari angka 4\n",
    "\n",
    "type(4)"
   ]
  },
  {
   "cell_type": "code",
   "execution_count": null,
   "metadata": {
    "colab": {},
    "colab_type": "code",
    "collapsed": true,
    "id": "tzdrHLOH37XM"
   },
   "outputs": [],
   "source": [
    "# Tampilkan tipe dari angka 0\n",
    "\n",
    "type(0)"
   ]
  },
  {
   "cell_type": "markdown",
   "metadata": {
    "colab_type": "text",
    "id": "KEuaROl637XN"
   },
   "source": [
    "<h3 id=\"float\">Floats</h3> "
   ]
  },
  {
   "cell_type": "markdown",
   "metadata": {
    "colab_type": "text",
    "id": "URB9_kcx37XO"
   },
   "source": [
    "<p>Float merupakan angka yang bernilai pecahan atau bilangan real. Komputer memiliki keterbatasan dalam memproses bilangan real, terutama mengenai berapa angka dibelakang koma yang dapat diproses. Nilai terbesar dan terkecil dari tipe <code>float</code> dapat dicek menggunakan perintah <code>sys.float_info</code>.</p>\n",
    "<p>Pada cell di bawah ini, cek tipe objek dari masing-masing nilai yang tersedia.</p>"
   ]
  },
  {
   "cell_type": "code",
   "execution_count": null,
   "metadata": {
    "colab": {},
    "colab_type": "code",
    "collapsed": true,
    "id": "rm_OGelQ37XP"
   },
   "outputs": [],
   "source": [
    "# Tampilkan tipe dari angka 1.0\n",
    "\n",
    "type(1.0) # Notice that 1 is an int, and 1.0 is a float"
   ]
  },
  {
   "cell_type": "code",
   "execution_count": null,
   "metadata": {
    "colab": {},
    "colab_type": "code",
    "collapsed": true,
    "id": "eW-2UiwN37XQ"
   },
   "outputs": [],
   "source": [
    "# Tampilkan tipe dari angka 0.5\n",
    "\n",
    "type(0.5)"
   ]
  },
  {
   "cell_type": "code",
   "execution_count": null,
   "metadata": {
    "colab": {},
    "colab_type": "code",
    "collapsed": true,
    "id": "_QaR7ZPL37XT"
   },
   "outputs": [],
   "source": [
    "# Tampilkan tipe dari angka 0.56\n",
    "\n",
    "type(0.56)"
   ]
  },
  {
   "cell_type": "code",
   "execution_count": null,
   "metadata": {
    "colab": {},
    "colab_type": "code",
    "collapsed": true,
    "id": "Y_JcesTq37XV"
   },
   "outputs": [],
   "source": [
    "# Tampilkan informasi mengenai tipe float\n",
    "\n",
    "sys.float_info"
   ]
  },
  {
   "cell_type": "markdown",
   "metadata": {
    "colab_type": "text",
    "id": "TXZTPMBK37XZ"
   },
   "source": [
    "<h3 id=\"convert\">Mengubah tipe objek</h3>"
   ]
  },
  {
   "cell_type": "markdown",
   "metadata": {
    "colab_type": "text",
    "id": "sieyAcyi37Xa"
   },
   "source": [
    "<p>You can change the type of the object in Python; this is called typecasting. For example, you can convert an <i>integer</i> into a <i>float</i> (e.g. 2 to 2.0).</p>\n",
    "<p>Let's try it:</p>"
   ]
  },
  {
   "cell_type": "markdown",
   "metadata": {
    "colab_type": "text",
    "id": "bHjKSrlJ37Xb"
   },
   "source": [
    "Pengubahan tipe objek dapat dilakukan menggunakan <i>typecasting</i>. Sebagai contoh, Anda dapat mengubah sebuah <i>integer</i> menjadi <i>float</i> (contoh : 2 menjadi 2.0)"
   ]
  },
  {
   "cell_type": "code",
   "execution_count": null,
   "metadata": {
    "colab": {},
    "colab_type": "code",
    "collapsed": true,
    "id": "l6ccqQSk37Xe"
   },
   "outputs": [],
   "source": [
    "# Cek apakah angka di bawah ini merupakan integer\n",
    "\n",
    "type(2)"
   ]
  },
  {
   "cell_type": "markdown",
   "metadata": {
    "colab_type": "text",
    "id": "Rigpb9jB37Xn"
   },
   "source": [
    "<h4>Mengubah <i>integer</i> menjadi <i>float</i></h4>\n",
    "<p>Ubahlah angka 2 menjadi float:</p>"
   ]
  },
  {
   "cell_type": "code",
   "execution_count": null,
   "metadata": {
    "colab": {},
    "colab_type": "code",
    "collapsed": true,
    "id": "dPbriNfP37Xo"
   },
   "outputs": [],
   "source": [
    "# Ubah angka 2 menjadi float\n",
    "\n",
    "float(2)"
   ]
  },
  {
   "cell_type": "code",
   "execution_count": null,
   "metadata": {
    "colab": {},
    "colab_type": "code",
    "collapsed": true,
    "id": "uQSv7CVp37Xs"
   },
   "outputs": [],
   "source": [
    "# Ubah angka 2 menjadi float dan cek  tipe objek\n",
    "\n",
    "type(float(2))"
   ]
  },
  {
   "cell_type": "markdown",
   "metadata": {
    "colab_type": "text",
    "id": "DRX-NM6l44Lf"
   },
   "source": [
    "Proses konversi integer menjadi float tidak akan mengubah nilai variabel. Tetapi, pengubahan float menjadi integer dapat menyebabkan perubahan nilai karena hilangnya nilai pecahan. Sebagai contoh, jika angka 1,1 diubah menjadi integer akan menghasilkan nilai 1 sehingga nilai pecahan sebesar 0,1 akan hilang"
   ]
  },
  {
   "cell_type": "code",
   "execution_count": null,
   "metadata": {
    "colab": {},
    "colab_type": "code",
    "collapsed": true,
    "id": "SL1lkiLC37Xv"
   },
   "outputs": [],
   "source": [
    "# Pengubahan 1.1 dapat menghilangkan sebagian informasi\n",
    "\n",
    "int(1.1)"
   ]
  },
  {
   "cell_type": "markdown",
   "metadata": {
    "colab_type": "text",
    "id": "BbPTj2Gr37X2"
   },
   "source": [
    "<h4>Mengubah strings menjadi integer atau float</h4>"
   ]
  },
  {
   "cell_type": "markdown",
   "metadata": {
    "colab_type": "text",
    "id": "ZTIgSlP26Egu"
   },
   "source": [
    "Pada beberapa kejadian, kita mendapati string yang berisi angka. Pada kasus ini, dapat dilakukan pengubahan string yang berisi angka menjadi integer dengan menggunakan fungsi <code>int()</code>"
   ]
  },
  {
   "cell_type": "code",
   "execution_count": null,
   "metadata": {
    "colab": {},
    "colab_type": "code",
    "collapsed": true,
    "id": "S7hlS50k37X7"
   },
   "outputs": [],
   "source": [
    "# Ubah string menjadi integer\n",
    "\n",
    "int('1')"
   ]
  },
  {
   "cell_type": "markdown",
   "metadata": {
    "colab_type": "text",
    "id": "9AXOs3k637YE"
   },
   "source": [
    "<p>Jika Anda mengubah string yang berisi selain angka, maka Anda akan mendapati adanya error. Jalankan cell di bawah ini</p>\n",
    "\n"
   ]
  },
  {
   "cell_type": "code",
   "execution_count": null,
   "metadata": {
    "colab": {},
    "colab_type": "code",
    "collapsed": true,
    "id": "mU4rt0jf37YG"
   },
   "outputs": [],
   "source": [
    "# Mengubah string yang berisi kombinasi angka dan teks menjadi integer\n",
    "\n",
    "int('1 or 2 people')"
   ]
  },
  {
   "cell_type": "markdown",
   "metadata": {
    "colab_type": "text",
    "id": "VA3gGDtZ37YM"
   },
   "source": [
    "\n",
    "<p>String angka juga dapat diubah menjadi float dengan menggunakan fungsi <code>float()</code></p>"
   ]
  },
  {
   "cell_type": "code",
   "execution_count": null,
   "metadata": {
    "colab": {},
    "colab_type": "code",
    "collapsed": true,
    "id": "FmpriULB37YO"
   },
   "outputs": [],
   "source": [
    "# Mengubah string \"1.2\" menjadi float\n",
    "float('1.2')"
   ]
  },
  {
   "cell_type": "markdown",
   "metadata": {
    "colab_type": "text",
    "id": "-xIY2RCg37YS"
   },
   "source": [
    "<hr/>\n",
    "<div class=\"alert alert-success alertsuccess\" style=\"margin-top: 20px\">\n",
    "    [Tip:] String dapat ditulis menggunakan tanda kutip tunggal(<code>'1.2'</code>) maupun kutip ganda (<code>\"1.2\"</code>), tetapi tidak boleh dicampur (e.g., <code>\"1.2'</code>).\n",
    "</div>\n",
    "<hr/>"
   ]
  },
  {
   "cell_type": "markdown",
   "metadata": {
    "colab_type": "text",
    "id": "KGQSnlXW37YV"
   },
   "source": [
    "<h4>Mengubah angka menjadi string</h4>"
   ]
  },
  {
   "cell_type": "markdown",
   "metadata": {
    "colab_type": "text",
    "id": "yiXKI-Bl37YX"
   },
   "source": [
    "<p>Integer juga dapat diubah menjadi <i>string</i> menggunakan fungsi <code>str()</code> </p>"
   ]
  },
  {
   "cell_type": "code",
   "execution_count": null,
   "metadata": {
    "colab": {},
    "colab_type": "code",
    "collapsed": true,
    "id": "3KAaJivG37Ya"
   },
   "outputs": [],
   "source": [
    "# Mengubah integer menjadi string\n",
    "\n",
    "str(1)"
   ]
  },
  {
   "cell_type": "markdown",
   "metadata": {
    "colab_type": "text",
    "id": "9Z10A-VM37Yf"
   },
   "source": [
    "<p>Dengan fungsi yang sama, float dapat pula diubah menjadi string</p> "
   ]
  },
  {
   "cell_type": "code",
   "execution_count": null,
   "metadata": {
    "colab": {},
    "colab_type": "code",
    "collapsed": true,
    "id": "y_GHXW4W37Yg"
   },
   "outputs": [],
   "source": [
    "# Mengubah float menjadi string\n",
    "\n",
    "str(1.2)"
   ]
  },
  {
   "cell_type": "markdown",
   "metadata": {
    "colab_type": "text",
    "id": "2uQBjQic37Yj"
   },
   "source": [
    "<h3 id=\"bool\">Tipe data boolean</h3>"
   ]
  },
  {
   "cell_type": "markdown",
   "metadata": {
    "colab_type": "text",
    "id": "WZu3PrZ237Ym"
   },
   "source": [
    "<p><i>Boolean</i> merupakan tipe objek pada Python yang hanya memiliki dua nilai yaitu: <code>True</code> atau <code>False</code>:</p>"
   ]
  },
  {
   "cell_type": "code",
   "execution_count": null,
   "metadata": {
    "colab": {},
    "colab_type": "code",
    "collapsed": true,
    "id": "0ByHdmN137Yo"
   },
   "outputs": [],
   "source": [
    "# Nilai true\n",
    "\n",
    "True"
   ]
  },
  {
   "cell_type": "markdown",
   "metadata": {
    "colab_type": "text",
    "id": "zfFql6sO37Yq"
   },
   "source": [
    "<p>Pastikan Anda menggunakan huruf kapital \"T\" pada True dan kapital \"F\" pada False</p>"
   ]
  },
  {
   "cell_type": "code",
   "execution_count": null,
   "metadata": {
    "colab": {},
    "colab_type": "code",
    "collapsed": true,
    "id": "arthlrZR37Yq"
   },
   "outputs": [],
   "source": [
    "# Nilai false\n",
    "\n",
    "False"
   ]
  },
  {
   "cell_type": "markdown",
   "metadata": {
    "colab_type": "text",
    "id": "hbG-fvuQ37Ys"
   },
   "source": [
    "<p>Pengecekan tipe objek boolean akan menampilkan <code>bool</code> yang merupakan singkatan dari <i>boolean</i>:</p> \n",
    "\n"
   ]
  },
  {
   "cell_type": "code",
   "execution_count": null,
   "metadata": {
    "colab": {},
    "colab_type": "code",
    "collapsed": true,
    "id": "_xniLKes37Ys"
   },
   "outputs": [],
   "source": [
    "# Tipe dari True\n",
    "\n",
    "type(True)"
   ]
  },
  {
   "cell_type": "code",
   "execution_count": null,
   "metadata": {
    "colab": {},
    "colab_type": "code",
    "collapsed": true,
    "id": "D-uoUg0837Yv"
   },
   "outputs": [],
   "source": [
    "# Tipe dari False\n",
    "\n",
    "type(False)"
   ]
  },
  {
   "cell_type": "markdown",
   "metadata": {
    "colab_type": "text",
    "id": "wGbLR9ge-qI4"
   },
   "source": [
    "Objek boolean dapat diubah menjadi tipe objek lainnya. Jika boolean <code>True</code> diubah menjadi integer akan menghasilkan nilai satu (1), jika <code>False</code> diubah menjadi integer akan menghasilkan nol (0). Sebaliknya, jika integer 1 diubah menjadi Boolean akan menghasilkan <code>True</code> dan integer 0 jika diubah menjadi Boolean akan menghasilkan <code>False</code>"
   ]
  },
  {
   "cell_type": "code",
   "execution_count": null,
   "metadata": {
    "colab": {},
    "colab_type": "code",
    "collapsed": true,
    "id": "OYtp-1iz37Yy"
   },
   "outputs": [],
   "source": [
    "# Mengubah True menjadi int\n",
    "\n",
    "int(True)"
   ]
  },
  {
   "cell_type": "code",
   "execution_count": null,
   "metadata": {
    "colab": {},
    "colab_type": "code",
    "collapsed": true,
    "id": "RW2XDoJ737Yz"
   },
   "outputs": [],
   "source": [
    "# Mengubah 1 menjadi boolean\n",
    "\n",
    "bool(1)"
   ]
  },
  {
   "cell_type": "code",
   "execution_count": null,
   "metadata": {
    "colab": {},
    "colab_type": "code",
    "collapsed": true,
    "id": "WcP2A05e37Y5"
   },
   "outputs": [],
   "source": [
    "# Mengubah 0 menjadi boolean\n",
    "\n",
    "bool(0)"
   ]
  },
  {
   "cell_type": "code",
   "execution_count": null,
   "metadata": {
    "colab": {},
    "colab_type": "code",
    "collapsed": true,
    "id": "RJjHrUDx37Y-"
   },
   "outputs": [],
   "source": [
    "# Mengubah True menjadi float\n",
    "\n",
    "float(True)"
   ]
  },
  {
   "cell_type": "markdown",
   "metadata": {
    "colab_type": "text",
    "id": "-86agiwv37ZB"
   },
   "source": [
    "# <h3 id=\"exer_type\">Latihan: Tipe</h3>"
   ]
  },
  {
   "cell_type": "markdown",
   "metadata": {
    "colab_type": "text",
    "id": "jwtiFcJC37ZC"
   },
   "source": [
    "<p>Apakah tipe data dari operasi berikut: <code>6 / 2</code>?</p>"
   ]
  },
  {
   "cell_type": "code",
   "execution_count": null,
   "metadata": {
    "colab": {},
    "colab_type": "code",
    "collapsed": true,
    "id": "mmzRU6WN37ZD"
   },
   "outputs": [],
   "source": [
    "# Tuliskan kode Anda di sini. Tekan Shift+Enter untuk mengeksekusi"
   ]
  },
  {
   "cell_type": "markdown",
   "metadata": {
    "colab_type": "text",
    "id": "nYYOrA7t37ZF"
   },
   "source": [
    "Double-click __disini__ untuk melihat hasilnya.\n",
    "\n",
    "<!-- Your answer is below:\n",
    "type(6/2) # float\n",
    "-->"
   ]
  },
  {
   "cell_type": "markdown",
   "metadata": {
    "colab_type": "text",
    "id": "_RXvWDXk37ZG"
   },
   "source": [
    "<p>Apakah tipe data dari operasi berikut: <code>6 // 2</code>? (Perhatikan penggunaan operator <code>//</code>.)</p>"
   ]
  },
  {
   "cell_type": "code",
   "execution_count": null,
   "metadata": {
    "colab": {},
    "colab_type": "code",
    "collapsed": true,
    "id": "h2cqWcXN37ZG"
   },
   "outputs": [],
   "source": [
    "# Tuliskan kode Anda di sini. Tekan Shift+Enter untuk mengeksekusi"
   ]
  },
  {
   "cell_type": "markdown",
   "metadata": {
    "colab_type": "text",
    "id": "LNMOxWCo37ZK"
   },
   "source": [
    "Double-click __disini__ untuk melihat hasilnya.\n",
    "\n",
    "<!-- Your answer is below:\n",
    "type(6//2) # int, as the double slashes stand for integer division \n",
    "-->"
   ]
  },
  {
   "cell_type": "markdown",
   "metadata": {
    "colab_type": "text",
    "id": "in04TYjz37ZL"
   },
   "source": [
    "<hr>"
   ]
  },
  {
   "cell_type": "markdown",
   "metadata": {
    "colab_type": "text",
    "id": "du6v947C37ZM"
   },
   "source": [
    "<h2 id=\"expressions\">Ekspresi dan **Variabel**</h2>"
   ]
  },
  {
   "cell_type": "markdown",
   "metadata": {
    "colab_type": "text",
    "id": "vJANhDuo37ZN"
   },
   "source": [
    "<h3 id=\"exp\">Ekspresi</h3>"
   ]
  },
  {
   "cell_type": "markdown",
   "metadata": {
    "colab_type": "text",
    "id": "X7reCxfr37ZO"
   },
   "source": [
    "\n",
    "<p>Ekspresi pada Python dapat mengandung beberapa operasi yang sesuai pada tipe data tertentu (contoh: penjumlahan pada integer dan float)</p>"
   ]
  },
  {
   "cell_type": "code",
   "execution_count": 5,
   "metadata": {
    "colab": {},
    "colab_type": "code",
    "id": "IYME724d37ZP"
   },
   "outputs": [
    {
     "data": {
      "text/plain": [
       "160"
      ]
     },
     "execution_count": 5,
     "metadata": {},
     "output_type": "execute_result"
    }
   ],
   "source": [
    "# Ekspresi operasi penjumlahan\n",
    "\n",
    "43 + 60 + 16 + 41"
   ]
  },
  {
   "cell_type": "markdown",
   "metadata": {
    "colab_type": "text",
    "id": "DfcwfVmL37ZS"
   },
   "source": [
    "<p>Operasi pengurangan dapat dilakukan menggunakan operator minus. Pada contoh ini, angka yang dihasilkan bernilai minus:</p>"
   ]
  },
  {
   "cell_type": "code",
   "execution_count": 6,
   "metadata": {
    "colab": {},
    "colab_type": "code",
    "id": "VIdiEc_N37ZS"
   },
   "outputs": [
    {
     "data": {
      "text/plain": [
       "-10"
      ]
     },
     "execution_count": 6,
     "metadata": {},
     "output_type": "execute_result"
    }
   ],
   "source": [
    "# Ekspresi operasi pengurangan\n",
    "\n",
    "50 - 60"
   ]
  },
  {
   "cell_type": "markdown",
   "metadata": {
    "colab_type": "text",
    "id": "p1rN2E8a37ZU"
   },
   "source": [
    "<p>Operasi perkalian dapat menggunakan operator asteriks:</p>\n"
   ]
  },
  {
   "cell_type": "code",
   "execution_count": 7,
   "metadata": {
    "colab": {},
    "colab_type": "code",
    "id": "-Ew-z_Rq37ZU"
   },
   "outputs": [
    {
     "data": {
      "text/plain": [
       "25"
      ]
     },
     "execution_count": 7,
     "metadata": {},
     "output_type": "execute_result"
    }
   ],
   "source": [
    "# Ekspresi operasi perkalian\n",
    "\n",
    "5 * 5"
   ]
  },
  {
   "cell_type": "markdown",
   "metadata": {
    "colab_type": "text",
    "id": "HSaPCu0X37ZX"
   },
   "source": [
    "<p>Operasi pembagian dapat menggunakan operator forward slash:</p>\n"
   ]
  },
  {
   "cell_type": "code",
   "execution_count": 8,
   "metadata": {
    "colab": {},
    "colab_type": "code",
    "id": "KMfDeBMk37Zb"
   },
   "outputs": [
    {
     "data": {
      "text/plain": [
       "5.0"
      ]
     },
     "execution_count": 8,
     "metadata": {},
     "output_type": "execute_result"
    }
   ],
   "source": [
    "# Operasi pembagian\n",
    "\n",
    "25 / 5"
   ]
  },
  {
   "cell_type": "code",
   "execution_count": 9,
   "metadata": {
    "colab": {},
    "colab_type": "code",
    "id": "gn2pGjw937Zg"
   },
   "outputs": [
    {
     "data": {
      "text/plain": [
       "4.166666666666667"
      ]
     },
     "execution_count": 9,
     "metadata": {},
     "output_type": "execute_result"
    }
   ],
   "source": [
    "# Operasi pembagian\n",
    "\n",
    "25 / 6"
   ]
  },
  {
   "cell_type": "markdown",
   "metadata": {
    "colab_type": "text",
    "id": "Da3tRdyA37Zh"
   },
   "source": [
    "<p>Pada latihan di atas,  double slash digunakan untuk pembagian integer, dimana hasilnya akan dibulatkan ke integer terdekat</p>"
   ]
  },
  {
   "cell_type": "code",
   "execution_count": 10,
   "metadata": {
    "colab": {},
    "colab_type": "code",
    "id": "HWbYwweb37Zi"
   },
   "outputs": [
    {
     "data": {
      "text/plain": [
       "5"
      ]
     },
     "execution_count": 10,
     "metadata": {},
     "output_type": "execute_result"
    }
   ],
   "source": [
    "# Operasi pembagian integer\n",
    "\n",
    "25 // 5"
   ]
  },
  {
   "cell_type": "code",
   "execution_count": 11,
   "metadata": {
    "colab": {},
    "colab_type": "code",
    "id": "dLwFLr8n37Zj"
   },
   "outputs": [
    {
     "data": {
      "text/plain": [
       "4"
      ]
     },
     "execution_count": 11,
     "metadata": {},
     "output_type": "execute_result"
    }
   ],
   "source": [
    "# Operasi pembagian integer\n",
    "\n",
    "25 // 6"
   ]
  },
  {
   "cell_type": "markdown",
   "metadata": {
    "colab_type": "text",
    "id": "Iabobnjr37Zk"
   },
   "source": [
    "\n",
    "\n",
    "<h3 id=\"exer_exp\">Latihan: Ekspresi</h3>"
   ]
  },
  {
   "cell_type": "markdown",
   "metadata": {
    "colab_type": "text",
    "id": "df11iMaZ37Zl"
   },
   "source": [
    "  \n",
    " <p>Tuliskan sebuah ekspresi yang mengubah 160 menit menjadi jam</p>"
   ]
  },
  {
   "cell_type": "code",
   "execution_count": 12,
   "metadata": {
    "colab": {},
    "colab_type": "code",
    "collapsed": true,
    "id": "nQ5cJy4O37Zl"
   },
   "outputs": [],
   "source": [
    "# Tuliskan kode Anda di sini. Tekan Shift+Enter untuk mengeksekusi"
   ]
  },
  {
   "cell_type": "markdown",
   "metadata": {
    "colab_type": "text",
    "id": "wdipQtLP37Zo"
   },
   "source": [
    "Double-click __disini__ untuk melihat hasilnya.\n",
    "\n",
    "<!-- Your answer is below:\n",
    "160/60 \n",
    "# Or \n",
    "160//60\n",
    "-->"
   ]
  },
  {
   "cell_type": "markdown",
   "metadata": {
    "colab_type": "text",
    "id": "4RXrJ1ZZ37Zp"
   },
   "source": [
    "<p>Python melakukan eksekusi operasi matematika sesuai kaidah matematika yang benar. Pada contoh di bawah ini, Python akan melakukan perkalian terlebih dahulu dan diikuti penjumlahan</p>"
   ]
  },
  {
   "cell_type": "code",
   "execution_count": 13,
   "metadata": {
    "colab": {},
    "colab_type": "code",
    "id": "CYQdtV_s37Zr"
   },
   "outputs": [
    {
     "data": {
      "text/plain": [
       "150"
      ]
     },
     "execution_count": 13,
     "metadata": {},
     "output_type": "execute_result"
    }
   ],
   "source": [
    "# Ekspresi matematika\n",
    "\n",
    "30 + 2 * 60"
   ]
  },
  {
   "cell_type": "markdown",
   "metadata": {
    "colab_type": "text",
    "id": "yURDf2sa37Zu"
   },
   "source": [
    "\n",
    "<p>Penggunaan kurung menandakan prioritas operasi matematika, sehingga penjumlahan akan dilakukan terlebih dahulu sebelum perkalian</p>"
   ]
  },
  {
   "cell_type": "code",
   "execution_count": 14,
   "metadata": {
    "colab": {},
    "colab_type": "code",
    "id": "vUcZ0tR-37Zv"
   },
   "outputs": [
    {
     "data": {
      "text/plain": [
       "1920"
      ]
     },
     "execution_count": 14,
     "metadata": {},
     "output_type": "execute_result"
    }
   ],
   "source": [
    "# Ekspresi matematika\n",
    "\n",
    "(30 + 2) * 60"
   ]
  },
  {
   "cell_type": "markdown",
   "metadata": {
    "colab_type": "text",
    "id": "wPAH3LTT37Zx"
   },
   "source": [
    "<h3 id=\"var\">Variabel</h3>"
   ]
  },
  {
   "cell_type": "markdown",
   "metadata": {
    "colab_type": "text",
    "id": "ircpnDpf37Zx"
   },
   "source": [
    "<p>Sama seperti bahasa pemrograman lainnya, <i>variabel</i> digunakan untuk menyimpan nilai sehingga dapat digunakan pada tahap selanjutnya. Sebagai contoh: </p>"
   ]
  },
  {
   "cell_type": "code",
   "execution_count": 15,
   "metadata": {
    "colab": {},
    "colab_type": "code",
    "collapsed": true,
    "id": "pYTTRHaq37Zy"
   },
   "outputs": [],
   "source": [
    "# Simpan hasil kalkulasi ke dalam sebuah variabel\n",
    "\n",
    "x = 43 + 60 + 16 + 41"
   ]
  },
  {
   "cell_type": "markdown",
   "metadata": {
    "colab_type": "text",
    "id": "GePX_8H137Zz"
   },
   "source": [
    "\n",
    "\n",
    "<p>Nilai dari variabel <code>x</code> dapat ditamplkan dengan mengetik nama variabel</p>"
   ]
  },
  {
   "cell_type": "code",
   "execution_count": 16,
   "metadata": {
    "colab": {},
    "colab_type": "code",
    "id": "hIEBTvnD37Zz"
   },
   "outputs": [
    {
     "data": {
      "text/plain": [
       "160"
      ]
     },
     "execution_count": 16,
     "metadata": {},
     "output_type": "execute_result"
    }
   ],
   "source": [
    "# Tampilkan nilai variabel\n",
    "\n",
    "x"
   ]
  },
  {
   "cell_type": "markdown",
   "metadata": {
    "colab_type": "text",
    "id": "ChCUoLdV37Z4"
   },
   "source": [
    "\n",
    "<p>Anda juga dapat melakukan operasi pada variabel <code>x</code> dan menyimpan hasilnya pada variabel lainnya</p>\n"
   ]
  },
  {
   "cell_type": "code",
   "execution_count": 17,
   "metadata": {
    "colab": {},
    "colab_type": "code",
    "id": "uCbhGZ0r37Z4"
   },
   "outputs": [
    {
     "data": {
      "text/plain": [
       "2.6666666666666665"
      ]
     },
     "execution_count": 17,
     "metadata": {},
     "output_type": "execute_result"
    }
   ],
   "source": [
    "# Gunakan variabel lain untuk menyimpan nilai dari operasi berikut\n",
    "\n",
    "y = x / 60\n",
    "y"
   ]
  },
  {
   "cell_type": "markdown",
   "metadata": {
    "colab_type": "text",
    "id": "rDHXzUQR37Z8"
   },
   "source": [
    "<p>Jika suatu nilai disimpan pada sebuah variabel yang sudah ada, maka nilai baru akan menggantikan nilai yang lama</p>"
   ]
  },
  {
   "cell_type": "code",
   "execution_count": 18,
   "metadata": {
    "colab": {},
    "colab_type": "code",
    "id": "UpCdSwgs37Z8"
   },
   "outputs": [
    {
     "data": {
      "text/plain": [
       "2.6666666666666665"
      ]
     },
     "execution_count": 18,
     "metadata": {},
     "output_type": "execute_result"
    }
   ],
   "source": [
    "# Ganti nilai variabel dengan nilai baru\n",
    "\n",
    "x = x / 60\n",
    "x"
   ]
  },
  {
   "cell_type": "markdown",
   "metadata": {
    "colab_type": "text",
    "id": "GXJ2-ysb37Z-"
   },
   "source": [
    "<p>Pemberian nama variabel sebaiknya menggunakan nama yang memiliki arti jelas sehingga kode sumber dapat dipahami dengan mudah</p>"
   ]
  },
  {
   "cell_type": "code",
   "execution_count": 19,
   "metadata": {
    "colab": {},
    "colab_type": "code",
    "id": "2KRe6ONi37Z_"
   },
   "outputs": [
    {
     "data": {
      "text/plain": [
       "142"
      ]
     },
     "execution_count": 19,
     "metadata": {},
     "output_type": "execute_result"
    }
   ],
   "source": [
    "# Berikan nama variabel dengan arti yang jelas\n",
    "\n",
    "total_min = 43 + 42 + 57 #Total durasi lagu dalam sebuah album dalam satuam menit\n",
    "total_min"
   ]
  },
  {
   "cell_type": "code",
   "execution_count": 20,
   "metadata": {
    "colab": {},
    "colab_type": "code",
    "id": "VX-3ATlO37aB"
   },
   "outputs": [
    {
     "data": {
      "text/plain": [
       "2.3666666666666667"
      ]
     },
     "execution_count": 20,
     "metadata": {},
     "output_type": "execute_result"
    }
   ],
   "source": [
    "# Berikan nama variabel dengan arti yang jelas\n",
    "\n",
    "total_hours = total_min / 60 # Total durasi dalam satuan jam\n",
    "total_hours"
   ]
  },
  {
   "cell_type": "markdown",
   "metadata": {
    "colab_type": "text",
    "id": "plVyizrJ37aE"
   },
   "source": [
    "<p> Pada cell di atas, durasi dari 3 lagu dijumlahkan (dalam satuan menit) dan disimpan di <code>total_min</code>. Selanjutnya, dilakukan pembagian dengan 60 untuk mendapatkan total durasi dalam satuan jam dan disimpan di variabel <code>total_hours</code>. Sebagai alternatif, semua operasi tersebut dapat dilakukan dalam satu ekspresi seperti di bawah ini : </p>"
   ]
  },
  {
   "cell_type": "code",
   "execution_count": 21,
   "metadata": {
    "colab": {},
    "colab_type": "code",
    "id": "tTQyoOJv37aF"
   },
   "outputs": [
    {
     "data": {
      "text/plain": [
       "2.3666666666666667"
      ]
     },
     "execution_count": 21,
     "metadata": {},
     "output_type": "execute_result"
    }
   ],
   "source": [
    "# Complicate expression\n",
    "\n",
    "total_hours = (43 + 42 + 57) / 60  # Total hours in a single expression\n",
    "total_hours"
   ]
  },
  {
   "cell_type": "markdown",
   "metadata": {
    "colab_type": "text",
    "id": "fWLs_vnK37aH"
   },
   "source": [
    "<p>Jika Anda menginginkan total jam dalam tipe integer, Anda dapat mengubah pembagian float menjadi pembagian integer  (menggunakan operasi  <code>//</code>)</p>"
   ]
  },
  {
   "cell_type": "markdown",
   "metadata": {
    "colab_type": "text",
    "id": "NBTWXNZ637aH"
   },
   "source": [
    "<h3 id=\"exer_exp_var\">Latihan: Ekspresi dan Variabel di Python</h3>"
   ]
  },
  {
   "cell_type": "markdown",
   "metadata": {
    "colab_type": "text",
    "id": "L4LUME2_37aI"
   },
   "source": [
    "<p>Berapakah nilai  <code>x</code> dimana <code>x = 3 + 2 * 2</code></p>"
   ]
  },
  {
   "cell_type": "code",
   "execution_count": 22,
   "metadata": {
    "colab": {},
    "colab_type": "code",
    "collapsed": true,
    "id": "K1M_eKJS37aJ"
   },
   "outputs": [],
   "source": [
    "# Tuliskan kode Anda di sini. Tekan Shift+Enter untuk mengeksekusi"
   ]
  },
  {
   "cell_type": "markdown",
   "metadata": {
    "colab_type": "text",
    "id": "a3Llj5pv37aO"
   },
   "source": [
    "Double-click __disini__ untuk melihat hasilnya.\n",
    "\n",
    "<!-- Your answer is below:\n",
    "7\n",
    "-->\n"
   ]
  },
  {
   "cell_type": "markdown",
   "metadata": {
    "colab_type": "text",
    "id": "wK5WvFGi37aP"
   },
   "source": [
    "\n",
    "<p>Berapa nilai <code>y</code> dimana <code>y = (3 + 2) * 2</code>?</p>"
   ]
  },
  {
   "cell_type": "code",
   "execution_count": 23,
   "metadata": {
    "colab": {},
    "colab_type": "code",
    "collapsed": true,
    "id": "z_VIrgio37aS"
   },
   "outputs": [],
   "source": [
    "# Tuliskan kode Anda di sini. Tekan Shift+Enter untuk mengeksekusi"
   ]
  },
  {
   "cell_type": "markdown",
   "metadata": {
    "colab_type": "text",
    "id": "Upg2r8j137aW"
   },
   "source": [
    "Double-click __disini__ untuk melihat hasilnya.\n",
    "\n",
    "<!-- Your answer is below:\n",
    "10\n",
    "-->"
   ]
  },
  {
   "cell_type": "markdown",
   "metadata": {
    "colab_type": "text",
    "id": "RDBLnItQ37aX"
   },
   "source": [
    "\n",
    "<p>Berapa nilai dari <code>z</code> dimana <code>z = x + y</code>?</p>"
   ]
  },
  {
   "cell_type": "code",
   "execution_count": 24,
   "metadata": {
    "colab": {},
    "colab_type": "code",
    "collapsed": true,
    "id": "P0Go-La737aX"
   },
   "outputs": [],
   "source": [
    "# Tuliskan kode Anda di sini. Tekan Shift+Enter untuk mengeksekusi"
   ]
  },
  {
   "cell_type": "markdown",
   "metadata": {
    "colab_type": "text",
    "id": "hdhMBpz_37ae"
   },
   "source": [
    "Double-click __disini__ untuk melihat hasilnya.\n",
    "<!-- Your answer is below:\n",
    "17\n",
    "-->"
   ]
  },
  {
   "cell_type": "markdown",
   "metadata": {
    "colab_type": "text",
    "id": "AX1ppQxr37af"
   },
   "source": [
    "<h3>About the Authors:</h3>  \n",
    "<p><a href=\"https://www.linkedin.com/in/joseph-s-50398b136/\" target=\"_blank\">Joseph Santarcangelo</a> is a Data Scientist at IBM, and holds a PhD in Electrical Engineering. His research focused on using Machine Learning, Signal Processing, and Computer Vision to determine how videos impact human cognition. Joseph has been working for IBM since he completed his PhD.</p>"
   ]
  },
  {
   "cell_type": "markdown",
   "metadata": {
    "colab_type": "text",
    "id": "8NYa5-kT37af"
   },
   "source": [
    "Other contributors: <a href=\"www.linkedin.com/in/jiahui-mavis-zhou-a4537814a\">Mavis Zhou</a>"
   ]
  },
  {
   "cell_type": "markdown",
   "metadata": {
    "colab_type": "text",
    "id": "OnC8MngW37ag"
   },
   "source": [
    "<hr>\n",
    "<p>Copyright &copy; 2018 IBM Developer Skills Network. This notebook and its source code are released under the terms of the <a href=\"https://cognitiveclass.ai/mit-license/\">MIT License</a>.</p>"
   ]
  }
 ],
 "metadata": {
  "colab": {
   "collapsed_sections": [],
   "name": "Lab-Sesi8-1.ipynb",
   "provenance": [],
   "version": "0.3.2"
  },
  "kernelspec": {
   "display_name": "Python 3",
   "language": "python",
   "name": "python3"
  },
  "language_info": {
   "codemirror_mode": {
    "name": "ipython",
    "version": 3
   },
   "file_extension": ".py",
   "mimetype": "text/x-python",
   "name": "python",
   "nbconvert_exporter": "python",
   "pygments_lexer": "ipython3",
   "version": "3.6.3"
  }
 },
 "nbformat": 4,
 "nbformat_minor": 1
}
